{
 "cells": [
  {
   "cell_type": "code",
   "execution_count": 1,
   "metadata": {},
   "outputs": [],
   "source": [
    "#Импортируем библиотеки\n",
    "import pandas as pd\n",
    "import numpy as np\n",
    "import matplotlib.pyplot as plt\n",
    "\n",
    "%matplotlib inline\n",
    "\n",
    "plt.style.use('ggplot')\n",
    "plt.rcParams['figure.figsize'] = (12,5)"
   ]
  },
  {
   "cell_type": "code",
   "execution_count": 2,
   "metadata": {},
   "outputs": [],
   "source": [
    "#Подгружаем данные\n",
    "df_train = pd.read_csv('train.csv', sep=',', encoding='utf8')\n",
    "df_test = pd.read_csv('test.csv', sep=',', encoding='utf8')"
   ]
  },
  {
   "cell_type": "code",
   "execution_count": 3,
   "metadata": {},
   "outputs": [
    {
     "name": "stderr",
     "output_type": "stream",
     "text": [
      "c:\\users\\александр\\appdata\\local\\programs\\python\\python37\\lib\\site-packages\\pandas\\core\\frame.py:6211: FutureWarning: Sorting because non-concatenation axis is not aligned. A future version\n",
      "of pandas will change to not sort by default.\n",
      "\n",
      "To accept the future behavior, pass 'sort=False'.\n",
      "\n",
      "To retain the current behavior and silence the warning, pass 'sort=True'.\n",
      "\n",
      "  sort=sort)\n"
     ]
    }
   ],
   "source": [
    "#Помечаем тренировочный и тестовый сеты\n",
    "df_train.loc[:, 'sample'] = 'train'\n",
    "df_test.loc[:, 'sample'] = 'test'\n",
    "df = df_train.append(df_test).reset_index(drop=True)"
   ]
  },
  {
   "cell_type": "code",
   "execution_count": 4,
   "metadata": {
    "scrolled": true
   },
   "outputs": [
    {
     "name": "stdout",
     "output_type": "stream",
     "text": [
      "<class 'pandas.core.frame.DataFrame'>\n",
      "RangeIndex: 41188 entries, 0 to 41187\n",
      "Data columns (total 23 columns):\n",
      "_id               41188 non-null object\n",
      "age               41188 non-null int64\n",
      "campaign          41188 non-null int64\n",
      "cons.conf.idx     41188 non-null float64\n",
      "cons.price.idx    41188 non-null float64\n",
      "contact           41188 non-null object\n",
      "day_of_week       41188 non-null object\n",
      "default           41188 non-null object\n",
      "duration          41188 non-null int64\n",
      "education         41188 non-null object\n",
      "emp.var.rate      41188 non-null float64\n",
      "euribor3m         41188 non-null float64\n",
      "housing           41188 non-null object\n",
      "job               41188 non-null object\n",
      "loan              41188 non-null object\n",
      "marital           41188 non-null object\n",
      "month             41188 non-null object\n",
      "nr.employed       41188 non-null float64\n",
      "pdays             41188 non-null int64\n",
      "poutcome          41188 non-null object\n",
      "previous          41188 non-null int64\n",
      "sample            41188 non-null object\n",
      "target            24712 non-null float64\n",
      "dtypes: float64(6), int64(5), object(12)\n",
      "memory usage: 7.2+ MB\n"
     ]
    }
   ],
   "source": [
    "#Выводим инфо\n",
    "df.info()"
   ]
  },
  {
   "cell_type": "code",
   "execution_count": 5,
   "metadata": {},
   "outputs": [
    {
     "data": {
      "text/html": [
       "<div>\n",
       "<style scoped>\n",
       "    .dataframe tbody tr th:only-of-type {\n",
       "        vertical-align: middle;\n",
       "    }\n",
       "\n",
       "    .dataframe tbody tr th {\n",
       "        vertical-align: top;\n",
       "    }\n",
       "\n",
       "    .dataframe thead th {\n",
       "        text-align: right;\n",
       "    }\n",
       "</style>\n",
       "<table border=\"1\" class=\"dataframe\">\n",
       "  <thead>\n",
       "    <tr style=\"text-align: right;\">\n",
       "      <th></th>\n",
       "      <th>_id</th>\n",
       "      <th>age</th>\n",
       "      <th>campaign</th>\n",
       "      <th>cons.conf.idx</th>\n",
       "      <th>cons.price.idx</th>\n",
       "      <th>contact</th>\n",
       "      <th>day_of_week</th>\n",
       "      <th>default</th>\n",
       "      <th>duration</th>\n",
       "      <th>education</th>\n",
       "      <th>...</th>\n",
       "      <th>job</th>\n",
       "      <th>loan</th>\n",
       "      <th>marital</th>\n",
       "      <th>month</th>\n",
       "      <th>nr.employed</th>\n",
       "      <th>pdays</th>\n",
       "      <th>poutcome</th>\n",
       "      <th>previous</th>\n",
       "      <th>sample</th>\n",
       "      <th>target</th>\n",
       "    </tr>\n",
       "  </thead>\n",
       "  <tbody>\n",
       "    <tr>\n",
       "      <th>0</th>\n",
       "      <td>df7489733b004bbe40d3d37b34f82419</td>\n",
       "      <td>54</td>\n",
       "      <td>1</td>\n",
       "      <td>-36.1</td>\n",
       "      <td>93.444</td>\n",
       "      <td>cellular</td>\n",
       "      <td>tue</td>\n",
       "      <td>unknown</td>\n",
       "      <td>87</td>\n",
       "      <td>professional.course</td>\n",
       "      <td>...</td>\n",
       "      <td>technician</td>\n",
       "      <td>no</td>\n",
       "      <td>married</td>\n",
       "      <td>aug</td>\n",
       "      <td>5228.1</td>\n",
       "      <td>999</td>\n",
       "      <td>nonexistent</td>\n",
       "      <td>0</td>\n",
       "      <td>train</td>\n",
       "      <td>0.0</td>\n",
       "    </tr>\n",
       "    <tr>\n",
       "      <th>1</th>\n",
       "      <td>905a0b9a5456ee962223033473666be3</td>\n",
       "      <td>36</td>\n",
       "      <td>1</td>\n",
       "      <td>-36.4</td>\n",
       "      <td>93.994</td>\n",
       "      <td>telephone</td>\n",
       "      <td>mon</td>\n",
       "      <td>no</td>\n",
       "      <td>291</td>\n",
       "      <td>basic.4y</td>\n",
       "      <td>...</td>\n",
       "      <td>services</td>\n",
       "      <td>no</td>\n",
       "      <td>single</td>\n",
       "      <td>may</td>\n",
       "      <td>5191.0</td>\n",
       "      <td>999</td>\n",
       "      <td>nonexistent</td>\n",
       "      <td>0</td>\n",
       "      <td>train</td>\n",
       "      <td>0.0</td>\n",
       "    </tr>\n",
       "    <tr>\n",
       "      <th>2</th>\n",
       "      <td>02d69c07ec6d68e31d641edd45ce61cd</td>\n",
       "      <td>53</td>\n",
       "      <td>1</td>\n",
       "      <td>-36.1</td>\n",
       "      <td>93.444</td>\n",
       "      <td>cellular</td>\n",
       "      <td>mon</td>\n",
       "      <td>no</td>\n",
       "      <td>182</td>\n",
       "      <td>basic.4y</td>\n",
       "      <td>...</td>\n",
       "      <td>blue-collar</td>\n",
       "      <td>no</td>\n",
       "      <td>married</td>\n",
       "      <td>aug</td>\n",
       "      <td>5228.1</td>\n",
       "      <td>999</td>\n",
       "      <td>nonexistent</td>\n",
       "      <td>0</td>\n",
       "      <td>train</td>\n",
       "      <td>0.0</td>\n",
       "    </tr>\n",
       "    <tr>\n",
       "      <th>3</th>\n",
       "      <td>e492fbe0cccaf67cdb5c0944dbc8a167</td>\n",
       "      <td>34</td>\n",
       "      <td>2</td>\n",
       "      <td>-36.4</td>\n",
       "      <td>93.994</td>\n",
       "      <td>telephone</td>\n",
       "      <td>wed</td>\n",
       "      <td>no</td>\n",
       "      <td>180</td>\n",
       "      <td>basic.9y</td>\n",
       "      <td>...</td>\n",
       "      <td>blue-collar</td>\n",
       "      <td>yes</td>\n",
       "      <td>married</td>\n",
       "      <td>may</td>\n",
       "      <td>5191.0</td>\n",
       "      <td>999</td>\n",
       "      <td>nonexistent</td>\n",
       "      <td>0</td>\n",
       "      <td>train</td>\n",
       "      <td>0.0</td>\n",
       "    </tr>\n",
       "    <tr>\n",
       "      <th>4</th>\n",
       "      <td>ac2dc6f5835bdea8e71dd99b65208d07</td>\n",
       "      <td>29</td>\n",
       "      <td>1</td>\n",
       "      <td>-38.3</td>\n",
       "      <td>94.027</td>\n",
       "      <td>telephone</td>\n",
       "      <td>fri</td>\n",
       "      <td>no</td>\n",
       "      <td>6</td>\n",
       "      <td>university.degree</td>\n",
       "      <td>...</td>\n",
       "      <td>services</td>\n",
       "      <td>no</td>\n",
       "      <td>single</td>\n",
       "      <td>aug</td>\n",
       "      <td>4991.6</td>\n",
       "      <td>999</td>\n",
       "      <td>nonexistent</td>\n",
       "      <td>0</td>\n",
       "      <td>train</td>\n",
       "      <td>0.0</td>\n",
       "    </tr>\n",
       "  </tbody>\n",
       "</table>\n",
       "<p>5 rows × 23 columns</p>\n",
       "</div>"
      ],
      "text/plain": [
       "                                _id  age  campaign  cons.conf.idx  \\\n",
       "0  df7489733b004bbe40d3d37b34f82419   54         1          -36.1   \n",
       "1  905a0b9a5456ee962223033473666be3   36         1          -36.4   \n",
       "2  02d69c07ec6d68e31d641edd45ce61cd   53         1          -36.1   \n",
       "3  e492fbe0cccaf67cdb5c0944dbc8a167   34         2          -36.4   \n",
       "4  ac2dc6f5835bdea8e71dd99b65208d07   29         1          -38.3   \n",
       "\n",
       "   cons.price.idx    contact day_of_week  default  duration  \\\n",
       "0          93.444   cellular         tue  unknown        87   \n",
       "1          93.994  telephone         mon       no       291   \n",
       "2          93.444   cellular         mon       no       182   \n",
       "3          93.994  telephone         wed       no       180   \n",
       "4          94.027  telephone         fri       no         6   \n",
       "\n",
       "             education  ...            job  loan  marital month nr.employed  \\\n",
       "0  professional.course  ...     technician    no  married   aug      5228.1   \n",
       "1             basic.4y  ...       services    no   single   may      5191.0   \n",
       "2             basic.4y  ...    blue-collar    no  married   aug      5228.1   \n",
       "3             basic.9y  ...    blue-collar   yes  married   may      5191.0   \n",
       "4    university.degree  ...       services    no   single   aug      4991.6   \n",
       "\n",
       "  pdays     poutcome  previous  sample target  \n",
       "0   999  nonexistent         0   train    0.0  \n",
       "1   999  nonexistent         0   train    0.0  \n",
       "2   999  nonexistent         0   train    0.0  \n",
       "3   999  nonexistent         0   train    0.0  \n",
       "4   999  nonexistent         0   train    0.0  \n",
       "\n",
       "[5 rows x 23 columns]"
      ]
     },
     "execution_count": 5,
     "metadata": {},
     "output_type": "execute_result"
    }
   ],
   "source": [
    "df.head()"
   ]
  },
  {
   "cell_type": "code",
   "execution_count": 6,
   "metadata": {},
   "outputs": [],
   "source": [
    "#Создаем функцию обработки данных (удаляет ненужные столбцы, заменяет пропуски, кодирует категориальные признаки)\n",
    "def preproc_data(df_input):\n",
    "    df_output = df_input.copy()\n",
    "    \n",
    "    #Удаляем идентификатор и добавленный нами столбец sample (вернем его позже)\n",
    "    df_output = df_output.drop(['_id','sample'], axis=1)\n",
    "    #Меняем yes/no на 1/0\n",
    "    df_output = df_output.replace(\"no\", 0)\n",
    "    df_output = df_output.replace(\"yes\", 1)\n",
    "    #Заменяем unknown на NaN\n",
    "    df_output = df_output.replace(\"unknown\", np.nan)\n",
    "    #Заменяем пропуска на моду (в категориальных признаках) и на среднее (в числовых)\n",
    "    df_output[['job','marital','education']] = df_output[['job','marital','education']].fillna(df_output.mode().loc[0])\n",
    "    df_output = df_output.fillna(df_output.mean())\n",
    "    #Кодируем категориальные признаки\n",
    "    df_output = pd.get_dummies(df_output, columns=df_output.select_dtypes(include=object).columns)\n",
    "    #Возвращаем sample\n",
    "    df_output['sample'] = df_input['sample']\n",
    "    \n",
    "    return df_output"
   ]
  },
  {
   "cell_type": "code",
   "execution_count": 7,
   "metadata": {},
   "outputs": [],
   "source": [
    "#Обабатываем функцией выше наш датафрейм, делим его на тренировочный и тестовый сеты\n",
    "df_preproc = df.pipe(preproc_data)\n",
    "\n",
    "df_train_preproc = df_preproc.query('sample == \"train\"').drop(['sample'], axis=1)\n",
    "df_test_preproc = df_preproc.query('sample == \"test\"').drop(['sample'], axis=1)\n",
    "df_preproc = df_preproc.drop(['sample'], axis=1)"
   ]
  },
  {
   "cell_type": "code",
   "execution_count": 8,
   "metadata": {},
   "outputs": [],
   "source": [
    "#Задаем таргет и удаляем его из датафреймов\n",
    "from sklearn.model_selection import train_test_split\n",
    "\n",
    "y = df_train_preproc['target']\n",
    "X = df_train_preproc.drop(['target'], axis=1)\n",
    "X_train, X_test, y_train, y_test = train_test_split(X, y, test_size=0.3, random_state=42)"
   ]
  },
  {
   "cell_type": "code",
   "execution_count": 9,
   "metadata": {},
   "outputs": [
    {
     "name": "stderr",
     "output_type": "stream",
     "text": [
      "c:\\users\\александр\\appdata\\local\\programs\\python\\python37\\lib\\site-packages\\sklearn\\linear_model\\logistic.py:432: FutureWarning: Default solver will be changed to 'lbfgs' in 0.22. Specify a solver to silence this warning.\n",
      "  FutureWarning)\n",
      "c:\\users\\александр\\appdata\\local\\programs\\python\\python37\\lib\\site-packages\\sklearn\\svm\\base.py:922: ConvergenceWarning: Liblinear failed to converge, increase the number of iterations.\n",
      "  \"the number of iterations.\", ConvergenceWarning)\n"
     ]
    }
   ],
   "source": [
    "#Объявляем модель и делаем предсказание\n",
    "from sklearn.neighbors import KNeighborsClassifier\n",
    "from sklearn.tree import DecisionTreeClassifier\n",
    "from sklearn.linear_model import LogisticRegression\n",
    "\n",
    "model_knn = KNeighborsClassifier(n_neighbors=3, weights='uniform', metric='euclidean')\n",
    "model_dtc = DecisionTreeClassifier()\n",
    "model_lr = LogisticRegression(penalty='l1', C=1, fit_intercept=True)\n",
    "\n",
    "model_knn.fit(X_train, y_train)\n",
    "model_dtc.fit(X_train, y_train)\n",
    "model_lr.fit(X_train, y_train)\n",
    "\n",
    "predict_knn = model_knn.predict(X_test)\n",
    "predict_dtc = model_dtc.predict(X_test)\n",
    "predict_lr = model_lr.predict(X_test)"
   ]
  },
  {
   "cell_type": "code",
   "execution_count": 10,
   "metadata": {},
   "outputs": [
    {
     "name": "stdout",
     "output_type": "stream",
     "text": [
      "Метрики KNN:\n",
      "precision 0.5586592178770949\n",
      "recall 0.4744958481613286\n",
      "accuracy 0.8976261127596439\n",
      "Метрики DTC:\n",
      "precision 0.4941860465116279\n",
      "recall 0.5041518386714117\n",
      "accuracy 0.884947396816833\n",
      "Метрики LR:\n",
      "precision 0.6699029126213593\n",
      "recall 0.4092526690391459\n",
      "accuracy 0.9099001888319396\n"
     ]
    }
   ],
   "source": [
    "#Смотрим метрики\n",
    "from sklearn.metrics import accuracy_score, precision_score, recall_score\n",
    "\n",
    "print(\"Метрики KNN:\")\n",
    "print('precision', precision_score(y_test, predict_knn))\n",
    "print('recall', recall_score(y_test, predict_knn))\n",
    "print('accuracy', accuracy_score(y_test, predict_knn))\n",
    "print(\"Метрики DTC:\")\n",
    "print('precision', precision_score(y_test, predict_dtc))\n",
    "print('recall', recall_score(y_test, predict_dtc))\n",
    "print('accuracy', accuracy_score(y_test, predict_dtc))\n",
    "print(\"Метрики LR:\")\n",
    "print('precision', precision_score(y_test, predict_lr))\n",
    "print('recall', recall_score(y_test, predict_lr))\n",
    "print('accuracy', accuracy_score(y_test, predict_lr))"
   ]
  },
  {
   "cell_type": "code",
   "execution_count": 11,
   "metadata": {},
   "outputs": [
    {
     "name": "stdout",
     "output_type": "stream",
     "text": [
      "Средний roc_auc KNN:\n",
      "0.8305532658978411\n",
      "Средний roc_auc DTC:\n",
      "0.7377724871764066\n"
     ]
    }
   ],
   "source": [
    "#Делаем кросс-валидацию и считаем средний roc_auc\n",
    "#Кросс-валидацию LR не делаю, тк не хватает вычислительных мощностей =(\n",
    "from sklearn.model_selection import cross_val_score\n",
    "\n",
    "cross_val_score_knn = cross_val_score(model_knn, X, y, scoring='roc_auc', cv=10)\n",
    "print(\"Средний roc_auc KNN:\")\n",
    "print(cross_val_score_knn.mean())\n",
    "\n",
    "cross_val_score_dtc = cross_val_score(model_dtc, X, y, scoring='roc_auc', cv=10)\n",
    "print(\"Средний roc_auc DTC:\")\n",
    "print(cross_val_score_dtc.mean())"
   ]
  },
  {
   "cell_type": "code",
   "execution_count": 12,
   "metadata": {},
   "outputs": [
    {
     "name": "stdout",
     "output_type": "stream",
     "text": [
      "roc_auc 0.8165395850381805\n",
      "roc_auc 0.7189759345540896\n",
      "roc_auc 0.9345593248886647\n"
     ]
    }
   ],
   "source": [
    "#Считаем roc_auc\n",
    "from sklearn.metrics import roc_auc_score, roc_curve\n",
    "\n",
    "predict_proba_knn = model_knn.predict_proba(X_test)\n",
    "print('roc_auc', roc_auc_score(y_test, predict_proba_knn[:,1]))\n",
    "\n",
    "predict_proba_dtc = model_dtc.predict_proba(X_test)\n",
    "print('roc_auc', roc_auc_score(y_test, predict_proba_dtc[:,1]))\n",
    "\n",
    "predict_proba_lr = model_lr.predict_proba(X_test)\n",
    "print('roc_auc', roc_auc_score(y_test, predict_proba_lr[:,1]))"
   ]
  },
  {
   "cell_type": "code",
   "execution_count": 13,
   "metadata": {},
   "outputs": [
    {
     "data": {
      "text/plain": [
       "<matplotlib.legend.Legend at 0x22a1daf3470>"
      ]
     },
     "execution_count": 13,
     "metadata": {},
     "output_type": "execute_result"
    },
    {
     "data": {
      "image/png": "[encoded data removed]",
      "text/plain": [
       "<Figure size 360x360 with 1 Axes>"
      ]
     },
     "metadata": {
      "needs_background": "light"
     },
     "output_type": "display_data"
    }
   ],
   "source": [
    "#Строим ROC кривую\n",
    "from sklearn import metrics\n",
    "\n",
    "fpr_knn, tpr_knn, thresholds_knn = roc_curve(y_test, predict_proba_knn[:,1])\n",
    "fpr_dtc, tpr_dtc, thresholds_dtc = roc_curve(y_test, predict_proba_dtc[:,1])\n",
    "fpr_lr, tpr_lr, thresholds_lr = roc_curve(y_test, predict_proba_lr[:,1])\n",
    "\n",
    "plt.figure(figsize=(5, 5))\n",
    "\n",
    "auc_knn = metrics.roc_auc_score(y_test, predict_proba_knn[:,1])\n",
    "auc_dtc = metrics.roc_auc_score(y_test, predict_proba_dtc[:,1])\n",
    "auc_lr = metrics.roc_auc_score(y_test, predict_proba_lr[:,1])\n",
    "\n",
    "plt.plot(fpr_knn, tpr_knn, label=\"KNN, auc=\"+str(auc_knn))\n",
    "plt.plot(fpr_dtc, tpr_dtc, label=\"DTC, auc=\"+str(auc_dtc))\n",
    "plt.plot(fpr_lr, tpr_lr, label=\"LR, auc=\"+str(auc_lr))\n",
    "\n",
    "plt.plot([0, 1], [0, 1])\n",
    "plt.ylabel('tpr')\n",
    "plt.xlabel('fpr')\n",
    "plt.grid(True)\n",
    "plt.title('ROC curves')\n",
    "plt.xlim((-0.01, 1.01))\n",
    "plt.ylim((-0.01, 1.01))\n",
    "plt.legend()"
   ]
  },
  {
   "cell_type": "code",
   "execution_count": 14,
   "metadata": {},
   "outputs": [
    {
     "name": "stderr",
     "output_type": "stream",
     "text": [
      "c:\\users\\александр\\appdata\\local\\programs\\python\\python37\\lib\\site-packages\\sklearn\\linear_model\\logistic.py:432: FutureWarning: Default solver will be changed to 'lbfgs' in 0.22. Specify a solver to silence this warning.\n",
      "  FutureWarning)\n",
      "c:\\users\\александр\\appdata\\local\\programs\\python\\python37\\lib\\site-packages\\sklearn\\svm\\base.py:922: ConvergenceWarning: Liblinear failed to converge, increase the number of iterations.\n",
      "  \"the number of iterations.\", ConvergenceWarning)\n"
     ]
    }
   ],
   "source": [
    "#Берем лучшую модель и делаем предсказание на тесте\n",
    "model = model_lr.fit(X, y)\n",
    "predict = model.predict(df_test_preproc.drop(['target'], axis=1))"
   ]
  },
  {
   "cell_type": "code",
   "execution_count": 15,
   "metadata": {},
   "outputs": [],
   "source": [
    "#Выгружаем предсказание\n",
    "se = pd.Series(predict)\n",
    "df_test['target'] = se.values\n",
    "df_results = df_test[['_id','target']]\n",
    "df_results.to_csv('result.csv', sep=',', encoding='utf8', index=False, columns=('_id', 'target'))"
   ]
  }
 ],
 "metadata": {
  "kernelspec": {
   "display_name": "Python 3",
   "language": "python",
   "name": "python3"
  },
  "language_info": {
   "codemirror_mode": {
    "name": "ipython",
    "version": 3
   },
   "file_extension": ".py",
   "mimetype": "text/x-python",
   "name": "python",
   "nbconvert_exporter": "python",
   "pygments_lexer": "ipython3",
   "version": "3.7.0"
  }
 },
 "nbformat": 4,
 "nbformat_minor": 2
}
